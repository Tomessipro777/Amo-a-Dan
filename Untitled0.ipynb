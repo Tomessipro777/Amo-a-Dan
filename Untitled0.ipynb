{
  "nbformat": 4,
  "nbformat_minor": 0,
  "metadata": {
    "colab": {
      "provenance": [],
      "mount_file_id": "157XpnYLMi4lWKHK8Q-XymrZnDycl2bwT",
      "authorship_tag": "ABX9TyMEegZKl4SGogQBVGy/ij5i",
      "include_colab_link": true
    },
    "kernelspec": {
      "name": "python3",
      "display_name": "Python 3"
    },
    "language_info": {
      "name": "python"
    },
    "widgets": {
      "application/vnd.jupyter.widget-state+json": {
        "e76b1020c2ce4689858c34123bc06950": {
          "model_module": "@jupyter-widgets/controls",
          "model_name": "HTMLModel",
          "model_module_version": "1.5.0",
          "state": {
            "_dom_classes": [],
            "_model_module": "@jupyter-widgets/controls",
            "_model_module_version": "1.5.0",
            "_model_name": "HTMLModel",
            "_view_count": null,
            "_view_module": "@jupyter-widgets/controls",
            "_view_module_version": "1.5.0",
            "_view_name": "HTMLView",
            "description": "",
            "description_tooltip": null,
            "layout": "IPY_MODEL_2e435ba83dc14bfab438d74432e25138",
            "placeholder": "​",
            "style": "IPY_MODEL_f2a79513f6994398a6b988902101b18e",
            "value": "<style>body { background-color: #D8BFD8; }</style>"
          }
        },
        "2e435ba83dc14bfab438d74432e25138": {
          "model_module": "@jupyter-widgets/base",
          "model_name": "LayoutModel",
          "model_module_version": "1.2.0",
          "state": {
            "_model_module": "@jupyter-widgets/base",
            "_model_module_version": "1.2.0",
            "_model_name": "LayoutModel",
            "_view_count": null,
            "_view_module": "@jupyter-widgets/base",
            "_view_module_version": "1.2.0",
            "_view_name": "LayoutView",
            "align_content": null,
            "align_items": null,
            "align_self": null,
            "border": null,
            "bottom": null,
            "display": null,
            "flex": null,
            "flex_flow": null,
            "grid_area": null,
            "grid_auto_columns": null,
            "grid_auto_flow": null,
            "grid_auto_rows": null,
            "grid_column": null,
            "grid_gap": null,
            "grid_row": null,
            "grid_template_areas": null,
            "grid_template_columns": null,
            "grid_template_rows": null,
            "height": null,
            "justify_content": null,
            "justify_items": null,
            "left": null,
            "margin": null,
            "max_height": null,
            "max_width": null,
            "min_height": null,
            "min_width": null,
            "object_fit": null,
            "object_position": null,
            "order": null,
            "overflow": null,
            "overflow_x": null,
            "overflow_y": null,
            "padding": null,
            "right": null,
            "top": null,
            "visibility": null,
            "width": null
          }
        },
        "f2a79513f6994398a6b988902101b18e": {
          "model_module": "@jupyter-widgets/controls",
          "model_name": "DescriptionStyleModel",
          "model_module_version": "1.5.0",
          "state": {
            "_model_module": "@jupyter-widgets/controls",
            "_model_module_version": "1.5.0",
            "_model_name": "DescriptionStyleModel",
            "_view_count": null,
            "_view_module": "@jupyter-widgets/base",
            "_view_module_version": "1.2.0",
            "_view_name": "StyleView",
            "description_width": ""
          }
        },
        "926ce8c093f04cef96a812e262f3b4bf": {
          "model_module": "@jupyter-widgets/controls",
          "model_name": "HTMLModel",
          "model_module_version": "1.5.0",
          "state": {
            "_dom_classes": [],
            "_model_module": "@jupyter-widgets/controls",
            "_model_module_version": "1.5.0",
            "_model_name": "HTMLModel",
            "_view_count": null,
            "_view_module": "@jupyter-widgets/controls",
            "_view_module_version": "1.5.0",
            "_view_name": "HTMLView",
            "description": "",
            "description_tooltip": null,
            "layout": "IPY_MODEL_ab8ae625f1cc451ebf4f584e0a95efe4",
            "placeholder": "​",
            "style": "IPY_MODEL_db1fe4a0c4be4c73baf5803a4bd38d9e",
            "value": "<h3 style='text-align:center; color:black;'>Perdóname Dania linda</h3>"
          }
        },
        "ab8ae625f1cc451ebf4f584e0a95efe4": {
          "model_module": "@jupyter-widgets/base",
          "model_name": "LayoutModel",
          "model_module_version": "1.2.0",
          "state": {
            "_model_module": "@jupyter-widgets/base",
            "_model_module_version": "1.2.0",
            "_model_name": "LayoutModel",
            "_view_count": null,
            "_view_module": "@jupyter-widgets/base",
            "_view_module_version": "1.2.0",
            "_view_name": "LayoutView",
            "align_content": null,
            "align_items": null,
            "align_self": null,
            "border": null,
            "bottom": null,
            "display": null,
            "flex": null,
            "flex_flow": null,
            "grid_area": null,
            "grid_auto_columns": null,
            "grid_auto_flow": null,
            "grid_auto_rows": null,
            "grid_column": null,
            "grid_gap": null,
            "grid_row": null,
            "grid_template_areas": null,
            "grid_template_columns": null,
            "grid_template_rows": null,
            "height": null,
            "justify_content": null,
            "justify_items": null,
            "left": null,
            "margin": null,
            "max_height": null,
            "max_width": null,
            "min_height": null,
            "min_width": null,
            "object_fit": null,
            "object_position": null,
            "order": null,
            "overflow": null,
            "overflow_x": null,
            "overflow_y": null,
            "padding": null,
            "right": null,
            "top": null,
            "visibility": null,
            "width": null
          }
        },
        "db1fe4a0c4be4c73baf5803a4bd38d9e": {
          "model_module": "@jupyter-widgets/controls",
          "model_name": "DescriptionStyleModel",
          "model_module_version": "1.5.0",
          "state": {
            "_model_module": "@jupyter-widgets/controls",
            "_model_module_version": "1.5.0",
            "_model_name": "DescriptionStyleModel",
            "_view_count": null,
            "_view_module": "@jupyter-widgets/base",
            "_view_module_version": "1.2.0",
            "_view_name": "StyleView",
            "description_width": ""
          }
        },
        "e518e8a52aa64b3585c2282166e98677": {
          "model_module": "@jupyter-widgets/controls",
          "model_name": "ButtonModel",
          "model_module_version": "1.5.0",
          "state": {
            "_dom_classes": [],
            "_model_module": "@jupyter-widgets/controls",
            "_model_module_version": "1.5.0",
            "_model_name": "ButtonModel",
            "_view_count": null,
            "_view_module": "@jupyter-widgets/controls",
            "_view_module_version": "1.5.0",
            "_view_name": "ButtonView",
            "button_style": "success",
            "description": "Ámame",
            "disabled": false,
            "icon": "",
            "layout": "IPY_MODEL_c29747d8b3a440b481b3b627b4efcb84",
            "style": "IPY_MODEL_f015bb9fd4724a0cb86a0286dbb1dacd",
            "tooltip": ""
          }
        },
        "c29747d8b3a440b481b3b627b4efcb84": {
          "model_module": "@jupyter-widgets/base",
          "model_name": "LayoutModel",
          "model_module_version": "1.2.0",
          "state": {
            "_model_module": "@jupyter-widgets/base",
            "_model_module_version": "1.2.0",
            "_model_name": "LayoutModel",
            "_view_count": null,
            "_view_module": "@jupyter-widgets/base",
            "_view_module_version": "1.2.0",
            "_view_name": "LayoutView",
            "align_content": null,
            "align_items": null,
            "align_self": null,
            "border": null,
            "bottom": null,
            "display": null,
            "flex": null,
            "flex_flow": null,
            "grid_area": null,
            "grid_auto_columns": null,
            "grid_auto_flow": null,
            "grid_auto_rows": null,
            "grid_column": null,
            "grid_gap": null,
            "grid_row": null,
            "grid_template_areas": null,
            "grid_template_columns": null,
            "grid_template_rows": null,
            "height": null,
            "justify_content": null,
            "justify_items": null,
            "left": null,
            "margin": null,
            "max_height": null,
            "max_width": null,
            "min_height": null,
            "min_width": null,
            "object_fit": null,
            "object_position": null,
            "order": null,
            "overflow": null,
            "overflow_x": null,
            "overflow_y": null,
            "padding": null,
            "right": null,
            "top": null,
            "visibility": null,
            "width": null
          }
        },
        "f015bb9fd4724a0cb86a0286dbb1dacd": {
          "model_module": "@jupyter-widgets/controls",
          "model_name": "ButtonStyleModel",
          "model_module_version": "1.5.0",
          "state": {
            "_model_module": "@jupyter-widgets/controls",
            "_model_module_version": "1.5.0",
            "_model_name": "ButtonStyleModel",
            "_view_count": null,
            "_view_module": "@jupyter-widgets/base",
            "_view_module_version": "1.2.0",
            "_view_name": "StyleView",
            "button_color": null,
            "font_weight": ""
          }
        },
        "044bae13a5d94dd5ba8634a163f51dc7": {
          "model_module": "@jupyter-widgets/output",
          "model_name": "OutputModel",
          "model_module_version": "1.0.0",
          "state": {
            "_dom_classes": [],
            "_model_module": "@jupyter-widgets/output",
            "_model_module_version": "1.0.0",
            "_model_name": "OutputModel",
            "_view_count": null,
            "_view_module": "@jupyter-widgets/output",
            "_view_module_version": "1.0.0",
            "_view_name": "OutputView",
            "layout": "IPY_MODEL_9fc9fd5b94124ec78890425af1689bb2",
            "msg_id": "",
            "outputs": [
              {
                "output_type": "stream",
                "name": "stdout",
                "text": [
                  "<span style='color: black;'>La luna palidece ante tu luz.</span>\n"
                ]
              }
            ]
          }
        },
        "9fc9fd5b94124ec78890425af1689bb2": {
          "model_module": "@jupyter-widgets/base",
          "model_name": "LayoutModel",
          "model_module_version": "1.2.0",
          "state": {
            "_model_module": "@jupyter-widgets/base",
            "_model_module_version": "1.2.0",
            "_model_name": "LayoutModel",
            "_view_count": null,
            "_view_module": "@jupyter-widgets/base",
            "_view_module_version": "1.2.0",
            "_view_name": "LayoutView",
            "align_content": null,
            "align_items": null,
            "align_self": null,
            "border": null,
            "bottom": null,
            "display": null,
            "flex": null,
            "flex_flow": null,
            "grid_area": null,
            "grid_auto_columns": null,
            "grid_auto_flow": null,
            "grid_auto_rows": null,
            "grid_column": null,
            "grid_gap": null,
            "grid_row": null,
            "grid_template_areas": null,
            "grid_template_columns": null,
            "grid_template_rows": null,
            "height": null,
            "justify_content": null,
            "justify_items": null,
            "left": null,
            "margin": null,
            "max_height": null,
            "max_width": null,
            "min_height": null,
            "min_width": null,
            "object_fit": null,
            "object_position": null,
            "order": null,
            "overflow": null,
            "overflow_x": null,
            "overflow_y": null,
            "padding": null,
            "right": null,
            "top": null,
            "visibility": null,
            "width": null
          }
        }
      }
    }
  },
  "cells": [
    {
      "cell_type": "markdown",
      "metadata": {
        "id": "view-in-github",
        "colab_type": "text"
      },
      "source": [
        "<a href=\"https://colab.research.google.com/github/Tomessipro777/Amo-a-Dan/blob/main/Untitled0.ipynb\" target=\"_parent\"><img src=\"https://colab.research.google.com/assets/colab-badge.svg\" alt=\"Open In Colab\"/></a>"
      ]
    },
    {
      "cell_type": "code",
      "source": [
        "import ipywidgets as widgets\n",
        "from IPython.display import display, clear_output\n",
        "\n",
        "# Lista ampliada de 200 frases amorosas\n",
        "frases = [\n",
        "    \"Eres el sol que ilumina mis días.\",\n",
        "    \"Cada amanecer me recuerda a tu belleza.\",\n",
        "    \"La luna palidece ante tu luz.\",\n",
        "    \"Tus ojos brillan como mil estrellas en el cielo nocturno.\",\n",
        "    \"Nunca dejaré de pensar en ti, eres mi inspiración diaria.\",\n",
        "    \"Mi amor por ti es más brillante que el sol en su zenit.\",\n",
        "    \"Cada vez que veo la luna, pienso en nosotros.\",\n",
        "    \"Eres el sol de mis días y la luna de mis noches.\",\n",
        "    \"Mi corazón late más fuerte cada vez que veo tu sonrisa.\",\n",
        "    \"No hay estrella en el cielo que se compare con tu belleza.\"\n",
        "] * 20  # Multiplicamos para tener más de 200 frases\n",
        "\n",
        "# Índice para controlar cuál frase se muestra\n",
        "indice = 0\n",
        "\n",
        "# Etiqueta para mostrar la frase\n",
        "output = widgets.Output()\n",
        "\n",
        "# Función que cambia la frase cada vez que se presiona el botón\n",
        "def mostrar_frase(b):\n",
        "    global indice\n",
        "    with output:\n",
        "        clear_output()\n",
        "        print(f\"<span style='color: black;'>{frases[indice]}</span>\")\n",
        "    indice = (indice + 1) % len(frases)\n",
        "\n",
        "# Crear el botón \"Ámame\"\n",
        "boton_amame = widgets.Button(description=\"Ámame\", button_style='success')\n",
        "\n",
        "# Asignar la función al botón\n",
        "boton_amame.on_click(mostrar_frase)\n",
        "\n",
        "# Mostrar un fondo morado pastel con el mensaje personalizado en letras negras\n",
        "display(widgets.HTML(\"<style>body { background-color: #D8BFD8; }</style>\"))\n",
        "display(widgets.HTML(\"<h3 style='text-align:center; color:black;'>Perdóname Dania linda</h3>\"))\n",
        "\n",
        "# Mostrar el botón y el espacio de salida\n",
        "display(boton_amame)\n",
        "display(output)\n"
      ],
      "metadata": {
        "colab": {
          "base_uri": "https://localhost:8080/",
          "height": 120,
          "referenced_widgets": [
            "e76b1020c2ce4689858c34123bc06950",
            "2e435ba83dc14bfab438d74432e25138",
            "f2a79513f6994398a6b988902101b18e",
            "926ce8c093f04cef96a812e262f3b4bf",
            "ab8ae625f1cc451ebf4f584e0a95efe4",
            "db1fe4a0c4be4c73baf5803a4bd38d9e",
            "e518e8a52aa64b3585c2282166e98677",
            "c29747d8b3a440b481b3b627b4efcb84",
            "f015bb9fd4724a0cb86a0286dbb1dacd",
            "044bae13a5d94dd5ba8634a163f51dc7",
            "9fc9fd5b94124ec78890425af1689bb2"
          ]
        },
        "id": "pkOLeSFg_vwG",
        "outputId": "a234487d-8652-4c5e-de69-dfd9a15219ba"
      },
      "execution_count": null,
      "outputs": [
        {
          "output_type": "display_data",
          "data": {
            "text/plain": [
              "HTML(value='<style>body { background-color: #D8BFD8; }</style>')"
            ],
            "application/vnd.jupyter.widget-view+json": {
              "version_major": 2,
              "version_minor": 0,
              "model_id": "e76b1020c2ce4689858c34123bc06950"
            }
          },
          "metadata": {}
        },
        {
          "output_type": "display_data",
          "data": {
            "text/plain": [
              "HTML(value=\"<h3 style='text-align:center; color:black;'>Perdóname Dania linda</h3>\")"
            ],
            "application/vnd.jupyter.widget-view+json": {
              "version_major": 2,
              "version_minor": 0,
              "model_id": "926ce8c093f04cef96a812e262f3b4bf"
            }
          },
          "metadata": {}
        },
        {
          "output_type": "display_data",
          "data": {
            "text/plain": [
              "Button(button_style='success', description='Ámame', style=ButtonStyle())"
            ],
            "application/vnd.jupyter.widget-view+json": {
              "version_major": 2,
              "version_minor": 0,
              "model_id": "e518e8a52aa64b3585c2282166e98677"
            }
          },
          "metadata": {}
        },
        {
          "output_type": "display_data",
          "data": {
            "text/plain": [
              "Output()"
            ],
            "application/vnd.jupyter.widget-view+json": {
              "version_major": 2,
              "version_minor": 0,
              "model_id": "044bae13a5d94dd5ba8634a163f51dc7"
            }
          },
          "metadata": {}
        }
      ]
    }
  ]
}