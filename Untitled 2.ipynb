{
 "cells": [
  {
   "cell_type": "code",
   "execution_count": 1,
   "metadata": {},
   "outputs": [
    {
     "data": {
      "application/vnd.jupyter.widget-view+json": {
       "model_id": "e2de100b68cf4aa0899d6d8a9d21b4bf",
       "version_major": 2,
       "version_minor": 0
      },
      "text/plain": [
       "Button(button_style='danger', description='perdoname x fi', style=ButtonStyle())"
      ]
     },
     "metadata": {},
     "output_type": "display_data"
    },
    {
     "data": {
      "application/vnd.jupyter.widget-view+json": {
       "model_id": "39b45156f6ec4a0bb14d5e8b9081eb8e",
       "version_major": 2,
       "version_minor": 0
      },
      "text/plain": [
       "Output()"
      ]
     },
     "metadata": {},
     "output_type": "display_data"
    }
   ],
   "source": [
    "import ipywidgets as widgets\n",
    "from IPython.display import display, clear_output\n",
    "import math\n",
    "\n",
    "# Crear una lista con las frases\n",
    "frases = [\n",
    "    \"nunca te olvides de mi\",\n",
    "    \"Perdóname\",\n",
    "    \"Eres mi razón de ser\",\n",
    "    \"Feliz viernes 13, corazón hermoso\",\n",
    "    \"Eres el sol que siempre quiero que me alumbre\",\n",
    "    \"Solo tu luz me da vida\",\n",
    "    \"Eres la señal que siempre quiero recibir\"\n",
    "]\n",
    "\n",
    "# Índice para controlar cuál frase se muestra\n",
    "indice = 0\n",
    "\n",
    "# Etiqueta para mostrar la frase\n",
    "output = widgets.Output()\n",
    "\n",
    "# Función que cambia la frase cada vez que se presiona el botón\n",
    "def mostrar_frase(b):\n",
    "    global indice\n",
    "    with output:\n",
    "        clear_output()\n",
    "        print(frases[indice])\n",
    "    indice = (indice + 1) % len(frases)\n",
    "\n",
    "# Crear el botón \"Ámame\"\n",
    "boton_amame = widgets.Button(description=\"perdoname x fi\", button_style='danger')\n",
    "\n",
    "# Asignar la función al botón\n",
    "boton_amame.on_click(mostrar_frase)\n",
    "\n",
    "# Mostrar el botón y la etiqueta en el notebook\n",
    "display(boton_amame, output) "
   ]
  },
  {
   "cell_type": "code",
   "execution_count": null,
   "metadata": {},
   "outputs": [],
   "source": []
  },
  {
   "cell_type": "code",
   "execution_count": null,
   "metadata": {},
   "outputs": [],
   "source": []
  },
  {
   "cell_type": "code",
   "execution_count": null,
   "metadata": {},
   "outputs": [],
   "source": []
  }
 ],
 "metadata": {
  "kernelspec": {
   "display_name": "Python 3 (ipykernel)",
   "language": "python",
   "name": "python3"
  },
  "language_info": {
   "codemirror_mode": {
    "name": "ipython",
    "version": 3
   },
   "file_extension": ".py",
   "mimetype": "text/x-python",
   "name": "python",
   "nbconvert_exporter": "python",
   "pygments_lexer": "ipython3",
   "version": "3.11.0"
  }
 },
 "nbformat": 4,
 "nbformat_minor": 4
}
